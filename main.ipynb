{
 "cells": [
  {
   "cell_type": "code",
   "execution_count": null,
   "metadata": {},
   "outputs": [],
   "source": [
    "print(\"mainが実行されます。\")\n",
    "\n",
    "import os\n",
    "import sys\n",
    "from pathlib import Path\n",
    "\n",
    "on_py = False\n",
    "try:  # get_ipython().__class__.__name__ で判断させてもOK\n",
    "    # .py\n",
    "    path_file_dir = str(Path(__file__).resolve().parent)\n",
    "    print(\"Hello, .py\")\n",
    "    on_py = True\n",
    "\n",
    "except:\n",
    "    # .ipynb\n",
    "    from IPython import get_ipython\n",
    "\n",
    "    # 外部オリジナルモジュール変更時自動リロード\n",
    "    # %reload_ext autoreload\n",
    "    # %autoreload 2\n",
    "\n",
    "    path_file_dir = str(Path().resolve())\n",
    "\n",
    "sys.path.append(path_file_dir)\n",
    "sys.path.append(str(Path(path_file_dir).resolve().parent))\n",
    "sys.path.append(os.path.join(str(Path(path_file_dir).resolve().parent), +\"module\"))  # 自作モジュール置き場のパスを追加\n",
    "\n",
    "import pprint\n",
    "\n",
    "print(\"path一覧\")\n",
    "pprint.pprint(sys.path)\n",
    "\n",
    "# herokuで動かす場合\n",
    "on_heroku = False\n",
    "if \"HEROKU_RUN\" in os.environ:  # herokuの環境変数に HEROKU_RUN を設定しておく\n",
    "    print(\"Hello, Heroku\")\n",
    "    on_heroku = True"
   ]
  },
  {
   "cell_type": "code",
   "execution_count": null,
   "metadata": {},
   "outputs": [],
   "source": [
    "import time\n",
    "from datetime import datetime, timedelta, timezone\n",
    "\n",
    "JST = timezone(timedelta(hours=+9), \"JST\")"
   ]
  },
  {
   "cell_type": "code",
   "execution_count": null,
   "metadata": {},
   "outputs": [],
   "source": [
    "from selenium import webdriver\n",
    "from selenium.webdriver.chrome.options import Options\n",
    "\n",
    "from webdriver_manager.chrome import ChromeDriverManager\n",
    "\n",
    "options = Options()\n",
    "\n",
    "if on_heroku == True:\n",
    "    # Headless Chromeをあらゆる環境で起動させるオプション\n",
    "    options.add_argument(\"--disable-gpu\")\n",
    "    options.add_argument(\"--disable-extensions\")\n",
    "    options.add_argument('--proxy-server=\"direct://\"')\n",
    "    options.add_argument(\"--proxy-bypass-list=*\")\n",
    "    options.add_argument(\"--start-maximized\")\n",
    "    options.add_argument(\"--headless\")\n",
    "\n",
    "driver = webdriver.Chrome(ChromeDriverManager().install(), options=options)\n",
    "time.sleep(1)"
   ]
  },
  {
   "cell_type": "code",
   "execution_count": null,
   "metadata": {},
   "outputs": [],
   "source": [
    "# gspread スプレッドシートを\n",
    "# https://docs.gspread.org/\n",
    "# pip install gspread\n",
    "# oauth2client は非推奨となったので使わない\n",
    "\n",
    "import gspread\n",
    "\n",
    "SPREADSHEET_KEY_PATH = \"./xxxxxxxxx.json\"  # スプレッドシートのキー(.json)のパス\n",
    "SPREADSHEET_KEY = \"xxxxxxxxxxxx\"  # スプレッドシートのキー(URL/d/の後の文字列)\n",
    "\n",
    "gc = gspread.service_account(filename=SPREADSHEET_KEY_PATH)\n",
    "workbook = gc.open_by_key(SPREADSHEET_KEY)\n",
    "worksheet = workbook.sheet1  # 一番左のシートを指定"
   ]
  },
  {
   "cell_type": "code",
   "execution_count": null,
   "metadata": {},
   "outputs": [],
   "source": [
    "# xlwings Excel\n",
    "# https://docs.xlwings.org/\n",
    "# pip install xlwings\n",
    "\n",
    "import xlwings as xw\n",
    "\n",
    "workbook = xw.Book(\"./xxxxxxxxx.xlsx\")  # Excelファイル(.xlsx/.xls)のパス\n",
    "worksheet = workbook.sheets[0]  # 一番左のシートを指定"
   ]
  },
  {
   "cell_type": "code",
   "execution_count": null,
   "metadata": {},
   "outputs": [],
   "source": [
    "driver.get(\"https://www.yahoo.co.jp/\")\n",
    "time.sleep(1)"
   ]
  },
  {
   "cell_type": "code",
   "execution_count": null,
   "metadata": {},
   "outputs": [],
   "source": [
    "driver.quit()\n",
    "sys.exit"
   ]
  }
 ],
 "metadata": {
  "interpreter": {
   "hash": "edc8b8ac84cf5b8d1f5dae1a9a80c05b33ac647118077b870cedd30b942ea685"
  },
  "kernelspec": {
   "display_name": "Python 3.9.7 ('base')",
   "language": "python",
   "name": "python3"
  },
  "language_info": {
   "codemirror_mode": {
    "name": "ipython",
    "version": 3
   },
   "file_extension": ".py",
   "mimetype": "text/x-python",
   "name": "python",
   "nbconvert_exporter": "python",
   "pygments_lexer": "ipython3",
   "version": "3.9.7"
  },
  "orig_nbformat": 4
 },
 "nbformat": 4,
 "nbformat_minor": 2
}
