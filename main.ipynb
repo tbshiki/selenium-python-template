{
 "cells": [
  {
   "cell_type": "code",
   "execution_count": null,
   "metadata": {},
   "outputs": [],
   "source": [
    "print('mainが実行されます。')\n",
    "\n",
    "import sys\n",
    "from pathlib import Path\n",
    "\n",
    "\n",
    "try: # get_ipython().__class__.__name__ で判断させてもOK\n",
    "    # .py\n",
    "    path_file_dir = str(Path(__file__).resolve().parent)\n",
    "\n",
    "except:\n",
    "    #.ipynb\n",
    "    path_file_dir = str(Path().resolve())\n",
    "\n",
    "sys.path.append(str(Path(path_file_dir).resolve().parent))\n",
    "sys.path.append(str(Path(path_file_dir).resolve().parent) + '\\\\module') # 自作モジュールのパスを追加\n",
    "sys.path.append(path_file_dir)\n",
    "\n",
    "import pprint\n",
    "print('path一覧')\n",
    "pprint.pprint(sys.path)"
   ]
  },
  {
   "cell_type": "code",
   "execution_count": null,
   "metadata": {},
   "outputs": [],
   "source": [
    "import os\n",
    "import time\n",
    "\n",
    "# herokuで動かす場合\n",
    "on_heroku = False\n",
    "if 'HEROKU_RUN' in os.environ: # herokuの環境変数に HEROKU_RUN を設定しておく\n",
    "    print('Hello, Heroku')\n",
    "    on_heroku = True"
   ]
  },
  {
   "cell_type": "code",
   "execution_count": null,
   "metadata": {},
   "outputs": [],
   "source": [
    "from selenium import webdriver\n",
    "from selenium.webdriver.chrome.options import Options\n",
    "\n",
    "from webdriver_manager.chrome import ChromeDriverManager\n",
    "\n",
    "options = Options()\n",
    "\n",
    "if on_heroku == True:\n",
    "    # Headless Chromeをあらゆる環境で起動させるオプション\n",
    "    options.add_argument('--disable-gpu');\n",
    "    options.add_argument('--disable-extensions');\n",
    "    options.add_argument('--proxy-server=\"direct://\"');\n",
    "    options.add_argument('--proxy-bypass-list=*');\n",
    "    options.add_argument('--start-maximized');\n",
    "    options.add_argument('--headless');\n",
    "\n",
    "driver = webdriver.Chrome(ChromeDriverManager().install(), options=options)\n",
    "time.sleep(1)"
   ]
  },
  {
   "cell_type": "code",
   "execution_count": null,
   "metadata": {},
   "outputs": [],
   "source": [
    "# gspread スプレッドシートを\n",
    "# https://docs.gspread.org/\n",
    "# pip install gspread\n",
    "# oauth2client は非推奨となったので使わない\n",
    "\n",
    "import gspread\n",
    "\n",
    "SPREADSHEET_KEY_PATH = './xxxxxxxxx.json' # スプレッドシートのキー(.json)のパス\n",
    "SPREADSHEET_KEY = 'xxxxxxxxxxxx' # スプレッドシートのキー(URL/d/の後の文字列)\n",
    "\n",
    "gc = gspread.service_account(filename = SPREADSHEET_KEY_PATH)\n",
    "workbook = gc.open_by_key(SPREADSHEET_KEY)\n",
    "worksheet = workbook.sheet1 # 一番左のシートを指定"
   ]
  },
  {
   "cell_type": "code",
   "execution_count": null,
   "metadata": {},
   "outputs": [],
   "source": [
    "# xlwings Excel\n",
    "# https://docs.xlwings.org/\n",
    "# pip install xlwings\n",
    "\n",
    "import xlwings as xw\n",
    "\n",
    "workbook = xw.Book('./xxxxxxxxx.xlsx') # Excelファイル(.xlsx/.xls)のパス\n",
    "worksheet = workbook.sheets[0] # 一番左のシートを指定"
   ]
  },
  {
   "cell_type": "code",
   "execution_count": null,
   "metadata": {},
   "outputs": [],
   "source": [
    "driver.get('https://www.yahoo.co.jp/')\n",
    "time.sleep(1)"
   ]
  },
  {
   "cell_type": "code",
   "execution_count": null,
   "metadata": {},
   "outputs": [],
   "source": [
    "driver.quit()\n",
    "sys.exit"
   ]
  }
 ],
 "metadata": {
  "interpreter": {
   "hash": "3f168a071959e445ef84476ed184ec532cdad63fb4c7db831e27e558ee1ae6c8"
  },
  "kernelspec": {
   "display_name": "Python 3.9.6 64-bit ('base2': conda)",
   "language": "python",
   "name": "python3"
  },
  "language_info": {
   "codemirror_mode": {
    "name": "ipython",
    "version": 3
   },
   "file_extension": ".py",
   "mimetype": "text/x-python",
   "name": "python",
   "nbconvert_exporter": "python",
   "pygments_lexer": "ipython3",
   "version": "3.9.6"
  },
  "orig_nbformat": 4
 },
 "nbformat": 4,
 "nbformat_minor": 2
}
